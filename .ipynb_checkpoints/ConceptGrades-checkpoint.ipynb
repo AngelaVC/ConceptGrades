{
 "cells": [
  {
   "cell_type": "markdown",
   "metadata": {},
   "source": [
    "Concept-based grading assesses students on their mastery of concepts. These concepts can be spelled out in the syllabus, and then tested by whatever method is desired. To test for mastery of the concept, I typically have students take multiple tests on each concept. For each concept, I give students a grade of 0 to 4. Only when students have earned a perfect score of 4 twice are they considered to have mastered the concept. To assign a grade for these concepts, I average together the score on all concepts, and then divide by 5 to get a percentage grade."
   ]
  },
  {
   "cell_type": "markdown",
   "metadata": {},
   "source": [
    "# Setting up dataframe"
   ]
  },
  {
   "cell_type": "code",
   "execution_count": 450,
   "metadata": {
    "collapsed": true
   },
   "outputs": [],
   "source": [
    "import pandas as pd\n",
    "import seaborn as sns\n",
    "import matplotlib.pyplot as plt\n",
    "\n",
    "%matplotlib inline"
   ]
  },
  {
   "cell_type": "code",
   "execution_count": 3,
   "metadata": {
    "collapsed": true
   },
   "outputs": [],
   "source": [
    "numConcepts = 14 # Concepts to assess\n",
    "perfect = 4 # perfect score\n",
    "numMaster = 2 # num of perfect scores needed for mastery"
   ]
  },
  {
   "cell_type": "code",
   "execution_count": 412,
   "metadata": {
    "collapsed": true
   },
   "outputs": [],
   "source": [
    "# make a list of all concepts if useful\n",
    "# could also give these names\n",
    "conceptList = range(14)"
   ]
  },
  {
   "cell_type": "markdown",
   "metadata": {},
   "source": [
    "I keep a csv of the grades, but it is also possible to keep the grades in a dataframe, setting up something like this: \n",
    "    cncpt_df = pd.DataFrame(columns['firstName','lastName','concept','score','date','comments'])"
   ]
  },
  {
   "cell_type": "code",
   "execution_count": 432,
   "metadata": {
    "collapsed": false
   },
   "outputs": [],
   "source": [
    "# reading in from file\n",
    "cncpt_df = pd.read_csv('conceptGradesSpring17.csv')"
   ]
  },
  {
   "cell_type": "code",
   "execution_count": 433,
   "metadata": {
    "collapsed": false
   },
   "outputs": [],
   "source": [
    "# scores should all be floats, concept numbers should be int, also have to fill NA with 0\n",
    "cncpt_df['Score']=pd.to_numeric(cncpt_df['Score'],errors='coerce').fillna(0)\n",
    "cncpt_df['Concept']=cncpt_df['Concept'].astype(int)"
   ]
  },
  {
   "cell_type": "code",
   "execution_count": 438,
   "metadata": {
    "collapsed": false
   },
   "outputs": [
    {
     "data": {
      "text/html": [
       "<div>\n",
       "<table border=\"1\" class=\"dataframe\">\n",
       "  <thead>\n",
       "    <tr style=\"text-align: right;\">\n",
       "      <th></th>\n",
       "      <th>First</th>\n",
       "      <th>Last</th>\n",
       "      <th>studID</th>\n",
       "      <th>Concept</th>\n",
       "      <th>Score</th>\n",
       "      <th>Date</th>\n",
       "      <th>Comments/Code</th>\n",
       "    </tr>\n",
       "  </thead>\n",
       "  <tbody>\n",
       "    <tr>\n",
       "      <th>0</th>\n",
       "      <td>Alana</td>\n",
       "      <td>Griffon</td>\n",
       "      <td>1</td>\n",
       "      <td>1</td>\n",
       "      <td>3.0</td>\n",
       "      <td>1/30/17</td>\n",
       "      <td>NaN</td>\n",
       "    </tr>\n",
       "    <tr>\n",
       "      <th>1</th>\n",
       "      <td>Alana</td>\n",
       "      <td>Griffon</td>\n",
       "      <td>1</td>\n",
       "      <td>2</td>\n",
       "      <td>3.0</td>\n",
       "      <td>1/30/17</td>\n",
       "      <td>NaN</td>\n",
       "    </tr>\n",
       "    <tr>\n",
       "      <th>2</th>\n",
       "      <td>Alana</td>\n",
       "      <td>Griffon</td>\n",
       "      <td>1</td>\n",
       "      <td>1</td>\n",
       "      <td>4.0</td>\n",
       "      <td>2/6/17</td>\n",
       "      <td>NaN</td>\n",
       "    </tr>\n",
       "    <tr>\n",
       "      <th>3</th>\n",
       "      <td>Alana</td>\n",
       "      <td>Griffon</td>\n",
       "      <td>1</td>\n",
       "      <td>2</td>\n",
       "      <td>1.0</td>\n",
       "      <td>2/6/17</td>\n",
       "      <td>NaN</td>\n",
       "    </tr>\n",
       "    <tr>\n",
       "      <th>4</th>\n",
       "      <td>Alana</td>\n",
       "      <td>Griffon</td>\n",
       "      <td>1</td>\n",
       "      <td>1</td>\n",
       "      <td>2.0</td>\n",
       "      <td>2/15/17</td>\n",
       "      <td>NaN</td>\n",
       "    </tr>\n",
       "  </tbody>\n",
       "</table>\n",
       "</div>"
      ],
      "text/plain": [
       "   First     Last  studID  Concept  Score     Date Comments/Code\n",
       "0  Alana  Griffon       1        1    3.0  1/30/17           NaN\n",
       "1  Alana  Griffon       1        2    3.0  1/30/17           NaN\n",
       "2  Alana  Griffon       1        1    4.0   2/6/17           NaN\n",
       "3  Alana  Griffon       1        2    1.0   2/6/17           NaN\n",
       "4  Alana  Griffon       1        1    2.0  2/15/17           NaN"
      ]
     },
     "execution_count": 438,
     "metadata": {},
     "output_type": "execute_result"
    }
   ],
   "source": [
    "cncpt_df.head()"
   ]
  },
  {
   "cell_type": "markdown",
   "metadata": {},
   "source": [
    "# Turn raw scores into grades"
   ]
  },
  {
   "cell_type": "code",
   "execution_count": 339,
   "metadata": {
    "collapsed": false
   },
   "outputs": [],
   "source": [
    "#######################\n",
    "# conceptGrade\n",
    "#     return grade on a concept for a student\n",
    "# con = concept name or number\n",
    "# ID = student ID\n",
    "# perfect = score of a perfect response\n",
    "# mastery = number of perfect responses to show mastery\n",
    "#########################\n",
    "def conceptGrade(con,ID,perfect,mastery):\n",
    "    # select for student ID and concept name, then tabulate the scores\n",
    "    select = (cncpt_df['Concept']==con)&(cncpt_df['studID']==ID)\n",
    "    scores = cncpt_df[select]['Score'].value_counts()\n",
    "    grade=dict()\n",
    "    \n",
    "    # mastery number of top scores, show mastery and boost you to max grade\n",
    "    # else you get the highest grade you have on that topic\n",
    "    try:\n",
    "        max = scores.index.max()\n",
    "        if max == perfect:\n",
    "            if scores[perfect]>=mastery:\n",
    "                grade[con]=perfect+1.0\n",
    "            else:\n",
    "                grade[con]=max\n",
    "        else:\n",
    "            grade[con]=max\n",
    "    except ValueError:\n",
    "        grade[con]=0\n",
    "    return grade\n"
   ]
  },
  {
   "cell_type": "markdown",
   "metadata": {},
   "source": [
    "Do this for all concepts, then put in a dataframe"
   ]
  },
  {
   "cell_type": "code",
   "execution_count": 344,
   "metadata": {
    "collapsed": false
   },
   "outputs": [],
   "source": [
    "def gradeAllConcepts(conceptList,ID,perfect,mastery):\n",
    "    grade=dict()\n",
    "    grade['studID']=ID\n",
    "    for con in [1,2,3,4]:\n",
    "        grade.update(conceptGrade(con,ID,perfect,mastery))\n",
    "    return grade"
   ]
  },
  {
   "cell_type": "code",
   "execution_count": 420,
   "metadata": {
    "collapsed": false
   },
   "outputs": [],
   "source": [
    "def conceptGrades(conceptList,cncpt_df,perfect,mastery):\n",
    "    grade_df = pd.DataFrame([gradeAllConcepts(conceptList,ID,perfect,mastery) for ID in cncpt_df.studID.unique()])\n",
    "    return grade_df.set_index('studID')"
   ]
  },
  {
   "cell_type": "code",
   "execution_count": 439,
   "metadata": {
    "collapsed": true
   },
   "outputs": [],
   "source": [
    "# Processing my current CSV of scores"
   ]
  },
  {
   "cell_type": "code",
   "execution_count": 435,
   "metadata": {
    "collapsed": true
   },
   "outputs": [],
   "source": [
    "# here, calculate grades for all students in original csv\n",
    "grade_df = conceptGrades([1,2,3,4],cncpt_df,4,2)"
   ]
  },
  {
   "cell_type": "code",
   "execution_count": 436,
   "metadata": {
    "collapsed": false
   },
   "outputs": [],
   "source": [
    "# want to put names back in these\n",
    "name_df = cncpt_df[['studID','First','Last']].drop_duplicates().set_index('studID')"
   ]
  },
  {
   "cell_type": "code",
   "execution_count": 442,
   "metadata": {
    "collapsed": false
   },
   "outputs": [],
   "source": [
    "grade_df = grade_df.join(name_df)"
   ]
  },
  {
   "cell_type": "markdown",
   "metadata": {},
   "source": [
    "# Statistics on Concepts"
   ]
  },
  {
   "cell_type": "code",
   "execution_count": 446,
   "metadata": {
    "collapsed": false
   },
   "outputs": [
    {
     "data": {
      "text/html": [
       "<div>\n",
       "<table border=\"1\" class=\"dataframe\">\n",
       "  <thead>\n",
       "    <tr style=\"text-align: right;\">\n",
       "      <th></th>\n",
       "      <th>1</th>\n",
       "      <th>2</th>\n",
       "      <th>3</th>\n",
       "      <th>4</th>\n",
       "    </tr>\n",
       "  </thead>\n",
       "  <tbody>\n",
       "    <tr>\n",
       "      <th>count</th>\n",
       "      <td>27.000000</td>\n",
       "      <td>27.000000</td>\n",
       "      <td>27.000000</td>\n",
       "      <td>27.000000</td>\n",
       "    </tr>\n",
       "    <tr>\n",
       "      <th>mean</th>\n",
       "      <td>3.555556</td>\n",
       "      <td>2.592593</td>\n",
       "      <td>3.444444</td>\n",
       "      <td>2.333333</td>\n",
       "    </tr>\n",
       "    <tr>\n",
       "      <th>std</th>\n",
       "      <td>1.219500</td>\n",
       "      <td>1.217161</td>\n",
       "      <td>1.476309</td>\n",
       "      <td>1.709701</td>\n",
       "    </tr>\n",
       "    <tr>\n",
       "      <th>min</th>\n",
       "      <td>1.000000</td>\n",
       "      <td>1.000000</td>\n",
       "      <td>0.000000</td>\n",
       "      <td>0.000000</td>\n",
       "    </tr>\n",
       "    <tr>\n",
       "      <th>25%</th>\n",
       "      <td>2.500000</td>\n",
       "      <td>2.000000</td>\n",
       "      <td>3.000000</td>\n",
       "      <td>1.000000</td>\n",
       "    </tr>\n",
       "    <tr>\n",
       "      <th>50%</th>\n",
       "      <td>4.000000</td>\n",
       "      <td>2.000000</td>\n",
       "      <td>4.000000</td>\n",
       "      <td>2.000000</td>\n",
       "    </tr>\n",
       "    <tr>\n",
       "      <th>75%</th>\n",
       "      <td>4.500000</td>\n",
       "      <td>3.500000</td>\n",
       "      <td>4.000000</td>\n",
       "      <td>4.000000</td>\n",
       "    </tr>\n",
       "    <tr>\n",
       "      <th>max</th>\n",
       "      <td>5.000000</td>\n",
       "      <td>5.000000</td>\n",
       "      <td>5.000000</td>\n",
       "      <td>4.000000</td>\n",
       "    </tr>\n",
       "  </tbody>\n",
       "</table>\n",
       "</div>"
      ],
      "text/plain": [
       "               1          2          3          4\n",
       "count  27.000000  27.000000  27.000000  27.000000\n",
       "mean    3.555556   2.592593   3.444444   2.333333\n",
       "std     1.219500   1.217161   1.476309   1.709701\n",
       "min     1.000000   1.000000   0.000000   0.000000\n",
       "25%     2.500000   2.000000   3.000000   1.000000\n",
       "50%     4.000000   2.000000   4.000000   2.000000\n",
       "75%     4.500000   3.500000   4.000000   4.000000\n",
       "max     5.000000   5.000000   5.000000   4.000000"
      ]
     },
     "execution_count": 446,
     "metadata": {},
     "output_type": "execute_result"
    }
   ],
   "source": [
    "grade_df.describe()"
   ]
  },
  {
   "cell_type": "code",
   "execution_count": 455,
   "metadata": {
    "collapsed": false
   },
   "outputs": [
    {
     "data": {
      "image/png": "[encoded data removed]",
      "text/plain": [
       "<matplotlib.figure.Figure at 0x1185dc048>"
      ]
     },
     "metadata": {},
     "output_type": "display_data"
    }
   ],
   "source": [
    "cncpt_df.sort_values(by='Date')\n",
    "plt.figure()\n",
    "plt.rcParams[\"figure.figsize\"] = [12,5]\n",
    "sns.pointplot(x='Date',y=\"Score\", data=cncpt_df,hue='Concept');\n",
    "\n"
   ]
  }
 ],
 "metadata": {
  "anaconda-cloud": {},
  "kernelspec": {
   "display_name": "Python [conda env:my_projects_env]",
   "language": "python",
   "name": "conda-env-my_projects_env-py"
  },
  "language_info": {
   "codemirror_mode": {
    "name": "ipython",
    "version": 3
   },
   "file_extension": ".py",
   "mimetype": "text/x-python",
   "name": "python",
   "nbconvert_exporter": "python",
   "pygments_lexer": "ipython3",
   "version": "3.5.2"
  }
 },
 "nbformat": 4,
 "nbformat_minor": 2
}
